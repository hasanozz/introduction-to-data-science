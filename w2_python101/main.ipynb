{
 "cells": [
  {
   "cell_type": "code",
   "execution_count": 1,
   "id": "e443cee2",
   "metadata": {},
   "outputs": [
    {
     "name": "stdout",
     "output_type": "stream",
     "text": [
      "hasan özgür\n"
     ]
    }
   ],
   "source": [
    "# kullanıcıdan alınan metni ekranda gösterme\n",
    "print(input(\"bir metin girin: \"))"
   ]
  },
  {
   "cell_type": "code",
   "execution_count": 2,
   "id": "f8c35b60",
   "metadata": {},
   "outputs": [
    {
     "name": "stdout",
     "output_type": "stream",
     "text": [
      "89.0\n"
     ]
    }
   ],
   "source": [
    "# Kullanıcının Girdiği İki Sayıyı Toplama\n",
    "a = float(input(\"1. sayi: \"))\n",
    "b = float(input(\"2. sayi: \"))\n",
    "print(a + b)"
   ]
  },
  {
   "cell_type": "code",
   "execution_count": 4,
   "id": "9b6cb440",
   "metadata": {},
   "outputs": [
    {
     "name": "stdout",
     "output_type": "stream",
     "text": [
      "tek\n"
     ]
    }
   ],
   "source": [
    "# Girilen Sayının Tek veya Çift Sayı Olduğunu Belirleme\n",
    "a = int(input(\"sayi: \"))\n",
    "if a % 2 == 0:\n",
    "    print(\"cift\")\n",
    "else:\n",
    "    print(\"tek\")"
   ]
  },
  {
   "cell_type": "code",
   "execution_count": null,
   "id": "6987f57b",
   "metadata": {},
   "outputs": [
    {
     "name": "stdout",
     "output_type": "stream",
     "text": [
      "islemler : + - * /\n",
      "54.0\n",
      "54.0 /\n",
      "BIR SAYININ SIFIA BOLUMU TANIMSIZDIR\n",
      "54.0\n",
      "54.0 /\n",
      "sonuc: 27.0\n",
      "SADECE SAYI GIRISI KABUL EDILIR\n",
      "SADECE SAYI GIRISI KABUL EDILIR\n"
     ]
    }
   ],
   "source": [
    "# Hesap Makinesinde Kullanıcı Hatalarını Önleme\n",
    "print(\"islemler : + - * /\")\n",
    "\n",
    "while True:\n",
    "    try:\n",
    "        sayi1 = float(input(\"birinci sayi: \"))\n",
    "\n",
    "        print(sayi1)\n",
    "        islem = input(\"yapilacak islem (+, -, *, /): \")\n",
    "    \n",
    "        if islem not in ['+', '-', '*', '/']:\n",
    "            print(\"GECERSUZ ISLEM\")\n",
    "            continue\n",
    "\n",
    "        print(f\"{sayi1} {islem}\")\n",
    "        \n",
    "        sayi2 = float(input(\"ikinci sayi: \"))\n",
    "\n",
    "        if islem == '/' and sayi2 == 0:\n",
    "            print(\"BIR SAYININ SIFIA BOLUMU TANIMSIZDIR\")\n",
    "            continue\n",
    "\n",
    "        elif islem == '+':\n",
    "            sonuc = sayi1 + sayi2\n",
    "        elif islem == '-':\n",
    "            sonuc = sayi1 - sayi2\n",
    "        elif islem == '*':\n",
    "            sonuc = sayi1 * sayi2\n",
    "        elif islem == '/':\n",
    "            sonuc = sayi1 / sayi2\n",
    "\n",
    "        print(f\"sonuc: {sonuc}\")\n",
    "\n",
    "    except ValueError:\n",
    "        print('SADECE SAYI GIRISI KABUL EDILIR')\n",
    "\n",
    "    devam = input(\"yeni islem? (cikis icin q)\").lower\n",
    "    if devam == 'q':\n",
    "        print(\"cikis yapildi\")\n",
    "        break\n"
   ]
  },
  {
   "cell_type": "code",
   "execution_count": 2,
   "id": "05482aab",
   "metadata": {},
   "outputs": [
    {
     "name": "stdout",
     "output_type": "stream",
     "text": [
      "0\n",
      "1\n",
      "2\n",
      "3\n",
      "2\n",
      "1\n",
      "0\n",
      "-1\n",
      "-2\n",
      "-3\n",
      "-4\n",
      "-5\n",
      "-6\n",
      "-7\n",
      "-8\n",
      "cikildi\n"
     ]
    }
   ],
   "source": [
    "# +/- İşaretine Her Basıldığında Sayıyı Arttırma/Azaltma\n",
    "\n",
    "sayi = 0\n",
    "while True:\n",
    "    print(sayi)\n",
    "    islem = input(\"+ basarsan artar, - basarsan azalir, q basarsan cikar\").lower().strip()\n",
    "    if islem == 'q':\n",
    "        print(\"cikildi\")\n",
    "        break\n",
    "    elif islem == '+':\n",
    "        sayi = sayi + 1\n",
    "    elif islem == '-':\n",
    "        sayi = sayi - 1\n"
   ]
  },
  {
   "cell_type": "code",
   "execution_count": 4,
   "id": "0f1fb628",
   "metadata": {},
   "outputs": [
    {
     "name": "stdout",
     "output_type": "stream",
     "text": [
      "-10\n",
      "-9\n",
      "-8\n",
      "-7\n",
      "-6\n",
      "-5\n",
      "-4\n",
      "-3\n",
      "-2\n",
      "-1\n",
      "0\n",
      "1\n",
      "2\n",
      "3\n",
      "4\n",
      "5\n",
      "6\n",
      "7\n",
      "8\n",
      "9\n",
      "10\n"
     ]
    }
   ],
   "source": [
    "# +10 ile -10 Arasındaki Sayıları Ekrana Yazma\n",
    "\n",
    "for i in range(-10, 11):\n",
    "    print(i)"
   ]
  },
  {
   "cell_type": "code",
   "execution_count": 6,
   "id": "634eff8c",
   "metadata": {},
   "outputs": [
    {
     "name": "stdout",
     "output_type": "stream",
     "text": [
      "h,a,s,a,n, ,o,z,g,u,r\n"
     ]
    }
   ],
   "source": [
    "#Metindeki Her Harfin Arasına Virgül Koyma\n",
    "metin = input(\"metin girin: \")\n",
    "print(*f\"{metin}\", sep=',')"
   ]
  },
  {
   "cell_type": "code",
   "execution_count": 12,
   "id": "9dafc3b0",
   "metadata": {},
   "outputs": [
    {
     "name": "stdout",
     "output_type": "stream",
     "text": [
      "[64, 1, 38, 73, 57, 52, 10, 26, 43, 35]\n"
     ]
    }
   ],
   "source": [
    "# 1 ile 100 Arasında Rastgele 10 Tam Sayı Üretip Dizi İçine Ekleme\n",
    "import random \n",
    "\n",
    "liste = list()\n",
    "\n",
    "a = 0\n",
    "\n",
    "while a < 10:\n",
    "    sayi = random.randint(1, 100)\n",
    "    if sayi not in liste:\n",
    "        liste.append(sayi)\n",
    "        a += 1\n",
    "print(liste)"
   ]
  },
  {
   "cell_type": "code",
   "execution_count": 15,
   "id": "3a7a1f41",
   "metadata": {},
   "outputs": [
    {
     "name": "stdout",
     "output_type": "stream",
     "text": [
      "-100 -95 -90 -85 -80 -75 -70 -65 -60 -55 -50 -45 -40 -35 -30 -25 -20 -15 -10 -5 0 5 10 15 20 25 30 35 40 45 50 55 60 65 70 75 80 85 90 95 100 "
     ]
    }
   ],
   "source": [
    "# -100 ile +100 Arasındaki 5’e Tam Bölünen Sayıları Yan Yana Gösterme\n",
    "\n",
    "for i in range(-100, 101):\n",
    "    if i % 5 == 0:\n",
    "        print(i, end= ' ')\n"
   ]
  },
  {
   "cell_type": "code",
   "execution_count": 18,
   "id": "451ccaf8",
   "metadata": {},
   "outputs": [
    {
     "name": "stdout",
     "output_type": "stream",
     "text": [
      "[32, 54, 91]\n"
     ]
    }
   ],
   "source": [
    "# Üç Adet Sayıyı Karşılaştırıp Sıralama\n",
    "sayi1 = int(input(\"1.sayi: \"))\n",
    "sayi2 = int(input(\"2.sayi: \"))\n",
    "sayi3 = int(input(\"3.sayi: \"))\n",
    "\n",
    "liste = [sayi1, sayi2, sayi3]\n",
    "\n",
    "print(sorted(liste))"
   ]
  },
  {
   "cell_type": "code",
   "execution_count": null,
   "id": "f00495ea",
   "metadata": {},
   "outputs": [],
   "source": [
    "# Faktöriyel Hesaplama ve Açılımını Yazdırma\n",
    "sayi = int(input('sayi: '))\n",
    "\n",
    "for i in range(sayi, 1):\n",
    "    print(i)\n",
    "\n"
   ]
  }
 ],
 "metadata": {
  "kernelspec": {
   "display_name": "Python 3",
   "language": "python",
   "name": "python3"
  },
  "language_info": {
   "codemirror_mode": {
    "name": "ipython",
    "version": 3
   },
   "file_extension": ".py",
   "mimetype": "text/x-python",
   "name": "python",
   "nbconvert_exporter": "python",
   "pygments_lexer": "ipython3",
   "version": "3.10.2"
  }
 },
 "nbformat": 4,
 "nbformat_minor": 5
}
